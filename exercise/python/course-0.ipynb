{
 "cells": [
  {
   "cell_type": "code",
   "execution_count": 1,
   "id": "czech-struggle",
   "metadata": {},
   "outputs": [
    {
     "data": {
      "text/html": [
       "<link href='http://fonts.googleapis.com/css?family=Alegreya+Sans:100,300,400,500,700,800,900,100italic,300italic,400italic,500italic,700italic,800italic,900italic' rel='stylesheet' type='text/css'>\n",
       "<link href='http://fonts.googleapis.com/css?family=Arvo:400,700,400italic' rel='stylesheet' type='text/css'>\n",
       "<link href='http://fonts.googleapis.com/css?family=PT+Mono' rel='stylesheet' type='text/css'>\n",
       "<link href='http://fonts.googleapis.com/css?family=Shadows+Into+Light' rel='stylesheet' type='text/css'>\n",
       "<link href='http://fonts.googleapis.com/css?family=Philosopher:400,700,400italic,700italic' rel='stylesheet' type='text/css'>\n",
       "\n",
       "<style>\n",
       "\n",
       "@font-face {\n",
       "    font-family: \"Computer Modern\";\n",
       "    src: url('http://mirrors.ctan.org/fonts/cm-unicode/fonts/otf/cmunss.otf');\n",
       "}\n",
       "\n",
       "#notebook_panel { /* main background */\n",
       "    background: #ddd;\n",
       "    color: #000000;\n",
       "}\n",
       "\n",
       "\n",
       "\n",
       "/* Formatting for header cells */\n",
       ".text_cell_render h1 {\n",
       "    font-family: 'Philosopher', sans-serif;\n",
       "    font-weight: 400;\n",
       "    font-size: 2.2em;\n",
       "    line-height: 100%;\n",
       "    color: rgb(0, 80, 120);\n",
       "    margin-bottom: 0.1em;\n",
       "    margin-top: 0.1em;\n",
       "    display: block;\n",
       "}\t\n",
       ".text_cell_render h2 {\n",
       "    font-family: 'Philosopher', serif;\n",
       "    font-weight: 400;\n",
       "    font-size: 1.9em;\n",
       "    line-height: 100%;\n",
       "    color: rgb(200,100,0);\n",
       "    margin-bottom: 0.1em;\n",
       "    margin-top: 0.1em;\n",
       "    display: block;\n",
       "}\t\n",
       "\n",
       ".text_cell_render h3 {\n",
       "    font-family: 'Philosopher', serif;\n",
       "    margin-top:12px;\n",
       "    margin-bottom: 3px;\n",
       "    font-style: italic;\n",
       "    color: rgb(94,127,192);\n",
       "}\n",
       "\n",
       ".text_cell_render h4 {\n",
       "    font-family: 'Philosopher', serif;\n",
       "}\n",
       "\n",
       ".text_cell_render h5 {\n",
       "    font-family: 'Alegreya Sans', sans-serif;\n",
       "    font-weight: 300;\n",
       "    font-size: 16pt;\n",
       "    color: grey;\n",
       "    font-style: italic;\n",
       "    margin-bottom: .1em;\n",
       "    margin-top: 0.1em;\n",
       "    display: block;\n",
       "}\n",
       "\n",
       ".text_cell_render h6 {\n",
       "    font-family: 'PT Mono', sans-serif;\n",
       "    font-weight: 300;\n",
       "    font-size: 10pt;\n",
       "    color: grey;\n",
       "    margin-bottom: 1px;\n",
       "    margin-top: 1px;\n",
       "}\n",
       "\n",
       ".CodeMirror{\n",
       "        font-family: \"PT Mono\";\n",
       "        font-size: 13pt;\n",
       "}\n",
       "\n",
       ".container {\n",
       "    width:90% !important;\n",
       "}\n",
       "\n",
       "div.cell.selected {\n",
       "     border-left-width:1px !important;\n",
       "}\n",
       "\n",
       "</style>\n",
       "\n"
      ],
      "text/plain": [
       "<IPython.core.display.HTML object>"
      ]
     },
     "execution_count": 1,
     "metadata": {},
     "output_type": "execute_result"
    }
   ],
   "source": [
    "from IPython.core.display import HTML\n",
    "css_file = '/home/satheeshkumar/Apps/utility-scripts/style.css'\n",
    "HTML(open(css_file, 'r').read())"
   ]
  },
  {
   "cell_type": "code",
   "execution_count": 16,
   "id": "animated-spiritual",
   "metadata": {},
   "outputs": [],
   "source": [
    "def sum_of_digits(num):\n",
    "    sum_digits = 0\n",
    "    while(num > 0):\n",
    "        sum_digits =  sum_digits + (num % 10)\n",
    "        num = num//10\n",
    "    return sum_digits        "
   ]
  },
  {
   "cell_type": "code",
   "execution_count": 18,
   "id": "artistic-avatar",
   "metadata": {},
   "outputs": [
    {
     "name": "stdout",
     "output_type": "stream",
     "text": [
      "Enter the number: 678\n",
      "Sum of digits 678 = 21\n"
     ]
    }
   ],
   "source": [
    "num = int(input(\"Enter the number: \"))\n",
    "digits_val = sum_of_digits(num)\n",
    "print(\"Sum of digits {} = {}\".format(num, digits_val))"
   ]
  },
  {
   "cell_type": "code",
   "execution_count": 22,
   "id": "rational-medicare",
   "metadata": {},
   "outputs": [],
   "source": [
    "def armstrong_number(arm_num, order_n):\n",
    "    arm_val = 0\n",
    "    arm_num_old = arm_num\n",
    "    while(arm_num > 0):\n",
    "        arm_val = arm_val + ((arm_num % 10)**order_n)\n",
    "        arm_num = arm_num//10\n",
    "    if arm_num_old == arm_val:\n",
    "        return True\n",
    "    return False"
   ]
  },
  {
   "cell_type": "code",
   "execution_count": 28,
   "id": "stopped-temperature",
   "metadata": {},
   "outputs": [
    {
     "name": "stdout",
     "output_type": "stream",
     "text": [
      "Enter the armstrong nubmer: 1634\n",
      "Enter the order nubmer: 4\n",
      "Is the number 1634 a armstrong number - True\n"
     ]
    }
   ],
   "source": [
    "arm_digit = int(input('Enter the armstrong nubmer: '))\n",
    "order_val = int(input('Enter the order nubmer: '))\n",
    "is_arms = armstrong_number(arm_digit, order_val)\n",
    "print(\"Is the number %d a armstrong number - %r\" % (arm_digit, is_arms))"
   ]
  },
  {
   "cell_type": "code",
   "execution_count": 1,
   "id": "fifteen-stocks",
   "metadata": {},
   "outputs": [
    {
     "data": {
      "text/plain": [
       "9"
      ]
     },
     "execution_count": 1,
     "metadata": {},
     "output_type": "execute_result"
    }
   ],
   "source": [
    "pal_val = \"malayalam\"\n",
    "len(pal_val)"
   ]
  },
  {
   "cell_type": "code",
   "execution_count": 30,
   "id": "fiscal-synthetic",
   "metadata": {},
   "outputs": [],
   "source": [
    "def palindrome_string(in_str):\n",
    "    count = len(in_str) - 1\n",
    "    for i in range(count + 1):\n",
    "        rev_index = count - i;\n",
    "        if in_str[i] != in_str[rev_index]:\n",
    "            return False\n",
    "    return True"
   ]
  },
  {
   "cell_type": "code",
   "execution_count": 34,
   "id": "opened-appraisal",
   "metadata": {},
   "outputs": [
    {
     "data": {
      "text/plain": [
       "True"
      ]
     },
     "execution_count": 34,
     "metadata": {},
     "output_type": "execute_result"
    }
   ],
   "source": [
    "palindrome_string(\"malayalam\")"
   ]
  },
  {
   "cell_type": "code",
   "execution_count": 5,
   "id": "vanilla-sleeping",
   "metadata": {},
   "outputs": [],
   "source": [
    "def frequencie_arr(in_list):\n",
    "    frequency = {}\n",
    "    for val in in_list:\n",
    "        if val in frequency.keys():\n",
    "            count = frequency[val] + 1 \n",
    "            frequency[val] = count\n",
    "        else:\n",
    "            count = 1\n",
    "            frequency[val] = count\n",
    "    return frequency"
   ]
  },
  {
   "cell_type": "code",
   "execution_count": 6,
   "id": "twenty-dream",
   "metadata": {},
   "outputs": [
    {
     "data": {
      "text/plain": [
       "{1: 1, 2: 2, 4: 1, 5: 3, 6: 2}"
      ]
     },
     "execution_count": 6,
     "metadata": {},
     "output_type": "execute_result"
    }
   ],
   "source": [
    "frequencie_arr([1, 2, 4, 5, 2, 6, 5, 6, 5])"
   ]
  },
  {
   "cell_type": "code",
   "execution_count": 41,
   "id": "extensive-meeting",
   "metadata": {},
   "outputs": [],
   "source": [
    "def prime_factors(in_prime):\n",
    "    # initialize prime numbers list with pre-defined prime numbers\n",
    "    prime_numbers = [2, 3, 5, 7, 11, 13, 17]\n",
    "    factors = []\n",
    "    elig_prime_factors = [x for x in prime_numbers if (in_prime % x)  == 0]\n",
    "    for el_prime in elig_prime_factors:\n",
    "        while in_prime % el_prime == 0:\n",
    "            if in_prime / el_prime == 1:\n",
    "                factors.append(el_prime)\n",
    "                return factors\n",
    "            else:\n",
    "                in_prime =  int(in_prime / el_prime)\n",
    "                factors.append(el_prime)\n",
    "    return factors"
   ]
  },
  {
   "cell_type": "code",
   "execution_count": 43,
   "id": "incorrect-phoenix",
   "metadata": {},
   "outputs": [
    {
     "data": {
      "text/plain": [
       "[3, 7, 7]"
      ]
     },
     "execution_count": 43,
     "metadata": {},
     "output_type": "execute_result"
    }
   ],
   "source": [
    "prime_factors(147)"
   ]
  },
  {
   "cell_type": "code",
   "execution_count": 57,
   "id": "threatened-draft",
   "metadata": {},
   "outputs": [],
   "source": [
    "def factorial_num(n_val):\n",
    "    fact_val = 1\n",
    "    for i in range(1, (n_val+1)):\n",
    "        fact_val *= i\n",
    "    return fact_val"
   ]
  },
  {
   "cell_type": "code",
   "execution_count": 58,
   "id": "declared-district",
   "metadata": {},
   "outputs": [
    {
     "data": {
      "text/plain": [
       "120"
      ]
     },
     "execution_count": 58,
     "metadata": {},
     "output_type": "execute_result"
    }
   ],
   "source": [
    "factorial_num(5)"
   ]
  },
  {
   "cell_type": "code",
   "execution_count": 63,
   "id": "abroad-indonesian",
   "metadata": {},
   "outputs": [],
   "source": [
    "def binomial_coeff(n_val, r_val):\n",
    "    n_fact = factorial_num(n_val)\n",
    "    r_fact = factorial_num(r_val)\n",
    "    coeffi = n_fact / (r_fact * factorial_num((n_val - r_val)))\n",
    "    return coeffi"
   ]
  },
  {
   "cell_type": "code",
   "execution_count": 67,
   "id": "considered-brighton",
   "metadata": {},
   "outputs": [
    {
     "data": {
      "text/plain": [
       "0.2"
      ]
     },
     "execution_count": 67,
     "metadata": {},
     "output_type": "execute_result"
    }
   ],
   "source": [
    "binomial_coeff(4, 5)"
   ]
  }
 ],
 "metadata": {
  "kernelspec": {
   "display_name": "ml",
   "language": "python",
   "name": "ml"
  },
  "language_info": {
   "codemirror_mode": {
    "name": "ipython",
    "version": 3
   },
   "file_extension": ".py",
   "mimetype": "text/x-python",
   "name": "python",
   "nbconvert_exporter": "python",
   "pygments_lexer": "ipython3",
   "version": "3.9.1"
  }
 },
 "nbformat": 4,
 "nbformat_minor": 5
}
